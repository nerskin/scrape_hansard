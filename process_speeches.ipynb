{
 "cells": [
  {
   "cell_type": "markdown",
   "metadata": {},
   "source": [
    "This notebook aims to ingest the Hansard XML dumps, extract the information I care about, and write it to CSV files."
   ]
  },
  {
   "cell_type": "code",
   "execution_count": 1,
   "metadata": {},
   "outputs": [],
   "source": [
    "import os\n",
    "import re\n",
    "import sys\n",
    "import multiprocessing\n",
    "\n",
    "from bs4 import BeautifulSoup\n",
    "import  pandas as pd"
   ]
  },
  {
   "cell_type": "code",
   "execution_count": 2,
   "metadata": {},
   "outputs": [],
   "source": [
    "data_files = os.listdir('./data/')\n",
    "data_files = [f for f in data_files if re.match('.*xml',f)]\n",
    "data_files = ['./data/'+data_file for data_file in data_files]"
   ]
  },
  {
   "cell_type": "code",
   "execution_count": 3,
   "metadata": {},
   "outputs": [],
   "source": [
    "class Speech:\n",
    "    \"\"\"Class to represent a speech in parliament\"\"\"\n",
    "    \n",
    "    def __init__(self,speech):\n",
    "        \"\"\"Should only be called from the constructor for Debate\"\"\"\n",
    "        self.name = speech.find('name').get_text()\n",
    "        self.text = speech.find('talk.text').get_text()\n",
    "        self.party = speech.find('party').get_text()\n",
    "\n",
    "class Division:\n",
    "    \n",
    "    def __init__(self,division):\n",
    "        self.result = division.find('division.result').get_text().strip()\n",
    "        self.ayes = [name_tag.get_text() for name_tag in division.find('ayes').find_all('name')]\n",
    "        try:\n",
    "            self.nays = [name_tag.get_text() for name_tag in division.find('nays').find_all('name')]\n",
    "        except:\n",
    "            self.nays = []\n",
    "        parent = division.parent\n",
    "        grandparent = parent.parent\n",
    "        self.parent_title = parent.title.get_text()\n",
    "        self.grandparent_title = grandparent.title.get_text()\n",
    "        \n",
    "class Subdebate:\n",
    "    \n",
    "    def __init__(self,subdebate):\n",
    "        self.title = subdebate.find('title')\n",
    "        self.speeches = [Speech(speech) for speech in subdebate.find_all('speech')]\n",
    "        self.divisions = [Division(division) for division in subdebate.find_all('division')]\n",
    "\n",
    "class Debate:\n",
    "    \"\"\"Class to represent a debate in parliament\"\"\"\n",
    "    \n",
    "    def __init__(self,debate):\n",
    "        \"\"\"Should only be called from the constructor for SittingDay\"\"\"\n",
    "        self.title = debate.find('title')\n",
    "        self.subdebates = list()#FixMe\n",
    "        subdebate = True\n",
    "        i = 1\n",
    "        while subdebate:\n",
    "            subdebate=debate.find('subdebate.'+str(i))\n",
    "            i+=1\n",
    "            if subdebate:\n",
    "                self.subdebates.append(Subdebate(subdebate))\n",
    "        \n",
    "        \n",
    "        \n",
    "class SittingDay:\n",
    "    \"\"\"Class to represent a whole parliamentary sitting day\"\"\"\n",
    "    \n",
    "    def __init__(self,day):\n",
    "        \"\"\"takes a beautifulsoup object\"\"\"\n",
    "        self.date = day.find('date').get_text()\n",
    "        self.debates = [Debate(debate) for debate in day.find_all('debate')]\n",
    "        self.chamber = day.find('chamber').get_text()\n",
    "        if self.chamber == 'House of Reps':\n",
    "            self.chamber = 'HoR'\n",
    "        \n",
    "    def write_divisions(self,path = '.'):\n",
    "        name = list()\n",
    "        vote = list()\n",
    "        date = list()\n",
    "        parent_title = list()\n",
    "        grandparent_title = list()\n",
    "        for debate in self.debates:\n",
    "            for subdebate in debate.subdebates:\n",
    "                for division in subdebate.divisions:\n",
    "                    all_names = division.ayes + division.nays\n",
    "                    for member in all_names:\n",
    "                        name.append(member)\n",
    "                        if member in division.ayes:\n",
    "                            vote.append('aye')\n",
    "                        if member in division.nays:\n",
    "                            vote.append('nay')\n",
    "                        date.append(self.date)\n",
    "                        parent_title.append(division.parent_title)\n",
    "                        grandparent_title.append(division.grandparent_title)\n",
    "                            \n",
    "        data_frame = pd.DataFrame({'name':name,'vote':vote,'parent_title':parent_title,'grandparent_title':grandparent_title,'date':date})\n",
    "        data_frame.to_csv(path+'/'+self.date + '-' + self.chamber + '-' + 'divisions.csv',encoding = 'utf-8',index = False)\n",
    "        \n",
    "    def write_speeches(self,path='.'):\n",
    "        \"\"\"Write all the debates to a csv file (one file per day)\"\"\"\n",
    "        #ToDo: extend to also include votes\n",
    "        text = list()\n",
    "        name = list()\n",
    "        party = list()\n",
    "        date = list()\n",
    "        debate_title = list()\n",
    "        subdebate_title = list()\n",
    "        for debate in self.debates:\n",
    "            for subdebate in debate.subdebates:\n",
    "                for speech in subdebate.speeches:\n",
    "                    text.append(speech.text)\n",
    "                    name.append(speech.name)\n",
    "                    party.append(speech.party)\n",
    "                    date.append(self.date)\n",
    "                    debate_title.append(debate.title)\n",
    "                    subdebate_title.append(subdebate.title)\n",
    "        date = [self.date]*len(text)\n",
    "        chamber = [self.chamber]*len(text)\n",
    "        data_frame = pd.DataFrame({'name':name,'party':party,'date':date,'text':text,'chamber':chamber,'debate_title':debate_title,'subdebate_title':subdebate_title})\n",
    "        data_frame.to_csv(path + '/' + self.date+ '-' + self.chamber +'-speeches.csv',encoding='utf-8',index=False)\n",
    "        \n",
    "    def write_proceedings(self,speeches_path='.',divisions_path='.'):\n",
    "        self.write_speeches(speeches_path)\n",
    "        self.write_divisions(divisions_path)"
   ]
  },
  {
   "cell_type": "markdown",
   "metadata": {},
   "source": [
    "FixMe:\n",
    "* ~~Split up debates into subdebates~~\n",
    "* ~~Add divisions~~\n",
    "* Add dictionary to associate MPs' names as listed in divisions with their names as listed elsewhere. "
   ]
  },
  {
   "cell_type": "markdown",
   "metadata": {},
   "source": [
    "Since building the BeautifulSoup representation of each XML file is somewhat slow, it's worth parallelising the process:"
   ]
  },
  {
   "cell_type": "code",
   "execution_count": 4,
   "metadata": {},
   "outputs": [],
   "source": [
    "def xml_to_csv(x):\n",
    "    data_file = x[0]\n",
    "    speeches_path = x[1]\n",
    "    divisions_path = x[2]\n",
    "    with open(data_file,'r') as f:\n",
    "        SittingDay(BeautifulSoup(f.read(),'xml')).write_proceedings(speeches_path,divisions_path)\n",
    "\n",
    "(speeches_path,divisions_path) = ('../tidied_parliamentary_data/speeches','../tidied_parliamentary_data/divisions')\n",
    "\n",
    "try:\n",
    "    os.makedirs(speeches_path)\n",
    "except OSError:\n",
    "    pass #nothing to do if the directories already exist\n",
    "\n",
    "\n",
    "try:\n",
    "    os.makedirs(divisions_path)\n",
    "except OSError:\n",
    "    pass #nothing to do if the directories already exist\n",
    "\n",
    "input = [(data_file,speeches_path,divisions_path) for data_file in data_files]"
   ]
  },
  {
   "cell_type": "code",
   "execution_count": 5,
   "metadata": {},
   "outputs": [
    {
     "ename": "AttributeError",
     "evalue": "'Division' object has no attribute 'grantparent_title'",
     "output_type": "error",
     "traceback": [
      "\u001b[0;31m---------------------------------------------------------------------------\u001b[0m",
      "\u001b[0;31mRemoteTraceback\u001b[0m                           Traceback (most recent call last)",
      "\u001b[0;31mRemoteTraceback\u001b[0m: \n\"\"\"\nTraceback (most recent call last):\n  File \"/usr/lib64/python3.6/multiprocessing/pool.py\", line 119, in worker\n    result = (True, func(*args, **kwds))\n  File \"/usr/lib64/python3.6/multiprocessing/pool.py\", line 44, in mapstar\n    return list(map(*args))\n  File \"<ipython-input-4-b3372117355f>\", line 6, in xml_to_csv\n    SittingDay(BeautifulSoup(f.read(),'xml')).write_proceedings(speeches_path,divisions_path)\n  File \"<ipython-input-3-f6e678d222dc>\", line 107, in write_proceedings\n    self.write_divisions(divisions_path)\n  File \"<ipython-input-3-f6e678d222dc>\", line 77, in write_divisions\n    grandparent_title.append(division.grantparent_title)\nAttributeError: 'Division' object has no attribute 'grantparent_title'\n\"\"\"",
      "\nThe above exception was the direct cause of the following exception:\n",
      "\u001b[0;31mAttributeError\u001b[0m                            Traceback (most recent call last)",
      "\u001b[0;32m<timed exec>\u001b[0m in \u001b[0;36m<module>\u001b[0;34m()\u001b[0m\n",
      "\u001b[0;32m/usr/lib64/python3.6/multiprocessing/pool.py\u001b[0m in \u001b[0;36mmap\u001b[0;34m(self, func, iterable, chunksize)\u001b[0m\n\u001b[1;32m    264\u001b[0m         \u001b[0;32min\u001b[0m \u001b[0ma\u001b[0m \u001b[0mlist\u001b[0m \u001b[0mthat\u001b[0m \u001b[0;32mis\u001b[0m \u001b[0mreturned\u001b[0m\u001b[0;34m.\u001b[0m\u001b[0;34m\u001b[0m\u001b[0m\n\u001b[1;32m    265\u001b[0m         '''\n\u001b[0;32m--> 266\u001b[0;31m         \u001b[0;32mreturn\u001b[0m \u001b[0mself\u001b[0m\u001b[0;34m.\u001b[0m\u001b[0m_map_async\u001b[0m\u001b[0;34m(\u001b[0m\u001b[0mfunc\u001b[0m\u001b[0;34m,\u001b[0m \u001b[0miterable\u001b[0m\u001b[0;34m,\u001b[0m \u001b[0mmapstar\u001b[0m\u001b[0;34m,\u001b[0m \u001b[0mchunksize\u001b[0m\u001b[0;34m)\u001b[0m\u001b[0;34m.\u001b[0m\u001b[0mget\u001b[0m\u001b[0;34m(\u001b[0m\u001b[0;34m)\u001b[0m\u001b[0;34m\u001b[0m\u001b[0m\n\u001b[0m\u001b[1;32m    267\u001b[0m \u001b[0;34m\u001b[0m\u001b[0m\n\u001b[1;32m    268\u001b[0m     \u001b[0;32mdef\u001b[0m \u001b[0mstarmap\u001b[0m\u001b[0;34m(\u001b[0m\u001b[0mself\u001b[0m\u001b[0;34m,\u001b[0m \u001b[0mfunc\u001b[0m\u001b[0;34m,\u001b[0m \u001b[0miterable\u001b[0m\u001b[0;34m,\u001b[0m \u001b[0mchunksize\u001b[0m\u001b[0;34m=\u001b[0m\u001b[0;32mNone\u001b[0m\u001b[0;34m)\u001b[0m\u001b[0;34m:\u001b[0m\u001b[0;34m\u001b[0m\u001b[0m\n",
      "\u001b[0;32m/usr/lib64/python3.6/multiprocessing/pool.py\u001b[0m in \u001b[0;36mget\u001b[0;34m(self, timeout)\u001b[0m\n\u001b[1;32m    642\u001b[0m             \u001b[0;32mreturn\u001b[0m \u001b[0mself\u001b[0m\u001b[0;34m.\u001b[0m\u001b[0m_value\u001b[0m\u001b[0;34m\u001b[0m\u001b[0m\n\u001b[1;32m    643\u001b[0m         \u001b[0;32melse\u001b[0m\u001b[0;34m:\u001b[0m\u001b[0;34m\u001b[0m\u001b[0m\n\u001b[0;32m--> 644\u001b[0;31m             \u001b[0;32mraise\u001b[0m \u001b[0mself\u001b[0m\u001b[0;34m.\u001b[0m\u001b[0m_value\u001b[0m\u001b[0;34m\u001b[0m\u001b[0m\n\u001b[0m\u001b[1;32m    645\u001b[0m \u001b[0;34m\u001b[0m\u001b[0m\n\u001b[1;32m    646\u001b[0m     \u001b[0;32mdef\u001b[0m \u001b[0m_set\u001b[0m\u001b[0;34m(\u001b[0m\u001b[0mself\u001b[0m\u001b[0;34m,\u001b[0m \u001b[0mi\u001b[0m\u001b[0;34m,\u001b[0m \u001b[0mobj\u001b[0m\u001b[0;34m)\u001b[0m\u001b[0;34m:\u001b[0m\u001b[0;34m\u001b[0m\u001b[0m\n",
      "\u001b[0;31mAttributeError\u001b[0m: 'Division' object has no attribute 'grantparent_title'"
     ]
    }
   ],
   "source": [
    "%%time\n",
    "pool = multiprocessing.Pool(multiprocessing.cpu_count())\n",
    "pool.map(xml_to_csv,input)"
   ]
  },
  {
   "cell_type": "code",
   "execution_count": 6,
   "metadata": {},
   "outputs": [
    {
     "data": {
      "text/plain": [
       "'Second Reading'"
      ]
     },
     "execution_count": 6,
     "metadata": {},
     "output_type": "execute_result"
    }
   ],
   "source": [
    "df = input[0][0]\n",
    "with open(df,'r') as f:\n",
    "    x= f.read()\n",
    "soup = BeautifulSoup(x).find('chamber.xscript')\n",
    "soup.find('division').parent.title.get_text()"
   ]
  }
 ],
 "metadata": {
  "kernelspec": {
   "display_name": "Python 3",
   "language": "python",
   "name": "python3"
  },
  "language_info": {
   "codemirror_mode": {
    "name": "ipython",
    "version": 3
   },
   "file_extension": ".py",
   "mimetype": "text/x-python",
   "name": "python",
   "nbconvert_exporter": "python",
   "pygments_lexer": "ipython3",
   "version": "3.6.6"
  }
 },
 "nbformat": 4,
 "nbformat_minor": 2
}
